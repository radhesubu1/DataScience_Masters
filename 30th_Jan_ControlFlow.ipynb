{
 "cells": [
  {
   "cell_type": "code",
   "execution_count": 7,
   "id": "377f1689-50de-4a47-89a6-858ef81f75f0",
   "metadata": {},
   "outputs": [
    {
     "data": {
      "text/plain": [
       "10"
      ]
     },
     "execution_count": 7,
     "metadata": {},
     "output_type": "execute_result"
    }
   ],
   "source": [
    "a=10\n",
    "a"
   ]
  },
  {
   "cell_type": "code",
   "execution_count": 9,
   "id": "29750f69-ba09-450d-aa67-7a43afda1521",
   "metadata": {},
   "outputs": [],
   "source": [
    "a='c'"
   ]
  },
  {
   "cell_type": "code",
   "execution_count": 11,
   "id": "94e147f3-fbef-4900-bfd4-00b1dd0d5824",
   "metadata": {},
   "outputs": [
    {
     "name": "stdout",
     "output_type": "stream",
     "text": [
      "c\n"
     ]
    }
   ],
   "source": [
    "type(a)\n",
    "print(a)"
   ]
  },
  {
   "cell_type": "code",
   "execution_count": 12,
   "id": "923d6b89-0f01-400b-96c0-89723f35ad19",
   "metadata": {},
   "outputs": [
    {
     "name": "stdout",
     "output_type": "stream",
     "text": [
      "c\n"
     ]
    }
   ],
   "source": [
    "print(a)"
   ]
  },
  {
   "cell_type": "code",
   "execution_count": 13,
   "id": "cdf9f633-ddcc-41d6-badb-4fabf134940d",
   "metadata": {},
   "outputs": [
    {
     "name": "stdout",
     "output_type": "stream",
     "text": [
      "123\n"
     ]
    }
   ],
   "source": [
    "print(123)"
   ]
  },
  {
   "cell_type": "markdown",
   "id": "0b8cd34d-0483-4ee9-a0df-8817faec03fa",
   "metadata": {},
   "source": [
    "## How to print data"
   ]
  },
  {
   "cell_type": "code",
   "execution_count": 1,
   "id": "a1690ac0-f186-45b1-a289-75c8ff081dae",
   "metadata": {},
   "outputs": [
    {
     "name": "stdout",
     "output_type": "stream",
     "text": [
      "My age is : 32\n"
     ]
    }
   ],
   "source": [
    "age=32\n",
    "### By Using f. \n",
    "print(f\"My age is : {age}\")"
   ]
  },
  {
   "cell_type": "code",
   "execution_count": 2,
   "id": "db11b8a3-e2a6-4e0f-a754-5969682efba5",
   "metadata": {},
   "outputs": [],
   "source": [
    "name='Radhe'"
   ]
  },
  {
   "cell_type": "code",
   "execution_count": 3,
   "id": "954759c6-632f-4843-921b-a75b77b9b89e",
   "metadata": {},
   "outputs": [
    {
     "name": "stdout",
     "output_type": "stream",
     "text": [
      "My name is radhe and age is 32\n"
     ]
    }
   ],
   "source": [
    "### By Using .format()\n",
    "print(\"My name is {} and age is {}\".format(name,age))"
   ]
  },
  {
   "cell_type": "code",
   "execution_count": 7,
   "id": "8dd96b9c-fac2-43f7-a8c2-690dbb7f7fb2",
   "metadata": {},
   "outputs": [
    {
     "name": "stdout",
     "output_type": "stream",
     "text": [
      "My name is radhe and age is 32\n"
     ]
    }
   ],
   "source": [
    "### By using placeholder with .format()\n",
    "print(\"My name is {fname} and age is {fage}\".format(fage=age,fname=name))"
   ]
  },
  {
   "cell_type": "code",
   "execution_count": 8,
   "id": "e11d67f1-73bc-48f2-acb0-fe6563453cdc",
   "metadata": {},
   "outputs": [],
   "source": [
    "degree='MCA'"
   ]
  },
  {
   "cell_type": "code",
   "execution_count": 11,
   "id": "b84f1c95-bbe2-4cfc-b48e-3325010ae818",
   "metadata": {},
   "outputs": [
    {
     "name": "stdout",
     "output_type": "stream",
     "text": [
      "My age is 32 and i have completed: my degree of MCA with the name is radhe\n"
     ]
    }
   ],
   "source": [
    "print(\"My age is {} and i have completed: my degree of {} with the name is {}\".format(age,degree,name))"
   ]
  },
  {
   "cell_type": "code",
   "execution_count": null,
   "id": "9f608791-8eb4-4889-b50e-fd077a640f70",
   "metadata": {},
   "outputs": [],
   "source": []
  },
  {
   "cell_type": "markdown",
   "id": "d8e6751c-f84b-4998-907d-1ac795805711",
   "metadata": {},
   "source": [
    "## Control flow\n",
    "### 1. Decission making Statements\n",
    "   - if\n",
    "   - if else\n",
    "   - if elif else\n",
    "   - Nested if\n",
    "   - Single statement Suites"
   ]
  },
  {
   "cell_type": "code",
   "execution_count": 12,
   "id": "25efa3b1-a72d-48c5-a401-020ae8107eb7",
   "metadata": {},
   "outputs": [
    {
     "name": "stdout",
     "output_type": "stream",
     "text": [
      "You are eligible to Vote\n"
     ]
    }
   ],
   "source": [
    "## If Statements\n",
    "age=19\n",
    "if age>=18:\n",
    "    print(\"You are eligible to Vote\")"
   ]
  },
  {
   "cell_type": "code",
   "execution_count": 14,
   "id": "0e1d8cd4-89c0-4d0a-8fc9-48fd7f61d3ed",
   "metadata": {},
   "outputs": [
    {
     "name": "stdin",
     "output_type": "stream",
     "text": [
      "Enter your name Radhashyam\n"
     ]
    }
   ],
   "source": [
    "## How to give runtime data , By using input()\n",
    "## Default data type of input() is String , for any other data you can type cast\n",
    "name=input(\"Enter your name\")"
   ]
  },
  {
   "cell_type": "code",
   "execution_count": 15,
   "id": "c11d6219-884c-4dca-9ab4-2854de3772df",
   "metadata": {},
   "outputs": [
    {
     "data": {
      "text/plain": [
       "'Radhashyam'"
      ]
     },
     "execution_count": 15,
     "metadata": {},
     "output_type": "execute_result"
    }
   ],
   "source": [
    "name"
   ]
  },
  {
   "cell_type": "code",
   "execution_count": 16,
   "id": "9bb2e4f9-e764-4386-9a51-5b29caa27114",
   "metadata": {},
   "outputs": [
    {
     "name": "stdin",
     "output_type": "stream",
     "text": [
      "Enter your age 29\n"
     ]
    }
   ],
   "source": [
    "age=int(input(\"Enter your age\"))"
   ]
  },
  {
   "cell_type": "code",
   "execution_count": 17,
   "id": "34aa0a69-1ed4-4a38-83ac-21feb6f4b1ea",
   "metadata": {},
   "outputs": [
    {
     "data": {
      "text/plain": [
       "29"
      ]
     },
     "execution_count": 17,
     "metadata": {},
     "output_type": "execute_result"
    }
   ],
   "source": [
    "age"
   ]
  },
  {
   "cell_type": "code",
   "execution_count": 18,
   "id": "07cec8d7-a1f3-420f-9d9f-a6cfc3371ff8",
   "metadata": {},
   "outputs": [
    {
     "data": {
      "text/plain": [
       "int"
      ]
     },
     "execution_count": 18,
     "metadata": {},
     "output_type": "execute_result"
    }
   ],
   "source": [
    "type(age)"
   ]
  },
  {
   "cell_type": "code",
   "execution_count": 20,
   "id": "5311c73d-a50f-4b5c-8245-a98a03ce338d",
   "metadata": {},
   "outputs": [
    {
     "name": "stdin",
     "output_type": "stream",
     "text": [
      "Enter your age 24\n"
     ]
    },
    {
     "name": "stdout",
     "output_type": "stream",
     "text": [
      "You are young Blood\n"
     ]
    }
   ],
   "source": [
    "## Task-1\n",
    "## If age is >=18 and <=45 , print you are young blood\n",
    "\n",
    "age=int(input(\"Enter your age\"))\n",
    "if age>=18 and age<=45:\n",
    "    print(\"You are young Blood\")"
   ]
  },
  {
   "cell_type": "code",
   "execution_count": 22,
   "id": "32ccd786-56d0-4304-839c-d40053dd8482",
   "metadata": {},
   "outputs": [
    {
     "name": "stdin",
     "output_type": "stream",
     "text": [
      "Enter your age 55\n"
     ]
    },
    {
     "name": "stdout",
     "output_type": "stream",
     "text": [
      "Thank you we will late you know\n"
     ]
    }
   ],
   "source": [
    "## if else statement\n",
    "age=int(input(\"Enter your age\"))\n",
    "if age>=18 and age<=45:\n",
    "    print(\"You are young Blood\")\n",
    "else:\n",
    "    print(\"Thank you we will late you know\")"
   ]
  },
  {
   "cell_type": "code",
   "execution_count": null,
   "id": "acf1fc1b-510b-4577-bd98-31a816cd20e3",
   "metadata": {},
   "outputs": [],
   "source": [
    "Task-2\n",
    "## You are in mall - Feb 14th discount any product\n",
    "## if product price is >1000rs , you get 20% off - Print Product Price\n",
    "## if product price is <= 1000 , you get 30% off - Print Product Price"
   ]
  },
  {
   "cell_type": "code",
   "execution_count": 30,
   "id": "df399646-6b10-43a6-8202-7e3ae40ccef8",
   "metadata": {},
   "outputs": [
    {
     "name": "stdin",
     "output_type": "stream",
     "text": [
      "Enter Product Price 3000\n"
     ]
    },
    {
     "name": "stdout",
     "output_type": "stream",
     "text": [
      "The product price is : 2400.0 \n"
     ]
    }
   ],
   "source": [
    "productPrice=int(input(\"Enter Product Price\"))\n",
    "if productPrice>1000:\n",
    "    print(\"The product price is : {} \".format(productPrice*0.8))\n",
    "else:\n",
    "     print(\"The product price is : {} \".format(productPrice*0.7))"
   ]
  },
  {
   "cell_type": "code",
   "execution_count": null,
   "id": "b4eb9acd-d211-490a-afc0-a14101bf8800",
   "metadata": {},
   "outputs": [
    {
     "ename": "NameError",
     "evalue": "name 'Task' is not defined",
     "output_type": "error",
     "traceback": [
      "\u001b[0;31m---------------------------------------------------------------------------\u001b[0m",
      "\u001b[0;31mNameError\u001b[0m                                 Traceback (most recent call last)",
      "Cell \u001b[0;32mIn[31], line 1\u001b[0m\n\u001b[0;32m----> 1\u001b[0m \u001b[43mTask\u001b[49m\u001b[38;5;241m-\u001b[39m\u001b[38;5;241m3\u001b[39m\n\u001b[1;32m      2\u001b[0m \u001b[38;5;66;03m## You are in mall - Feb 14th discount any product\u001b[39;00m\n\u001b[1;32m      3\u001b[0m \u001b[38;5;66;03m## if product price is >3000rs , you get 20% off - Print Product Price\u001b[39;00m\n\u001b[1;32m      4\u001b[0m \u001b[38;5;66;03m## if product price is >2000rs and <= 3000 , you get 30% off - Print Product Price\u001b[39;00m\n\u001b[1;32m      5\u001b[0m \u001b[38;5;66;03m## if product price is <= 2000 and >=1000 , you get 40% off - Print Product Price\u001b[39;00m\n",
      "\u001b[0;31mNameError\u001b[0m: name 'Task' is not defined"
     ]
    }
   ],
   "source": [
    "Task-3\n",
    "## You are in mall - Feb 14th discount any product\n",
    "## if product price is >3000rs , you get 20% off - Print Product Price\n",
    "## if product price is >2000rs and <= 3000 , you get 30% off - Print Product Price\n",
    "## if product price is <= 2000 and >=1000 , you get 40% off - Print Product Price"
   ]
  },
  {
   "cell_type": "code",
   "execution_count": 3,
   "id": "3b561827-c72f-4d55-acaf-08fb6a0377ea",
   "metadata": {},
   "outputs": [
    {
     "name": "stdin",
     "output_type": "stream",
     "text": [
      "Enter Product Price 2999\n"
     ]
    },
    {
     "name": "stdout",
     "output_type": "stream",
     "text": [
      "You will get Additional gift\n",
      "The product price is : 2099.2999999999997 \n"
     ]
    }
   ],
   "source": [
    "productPrice=int(input(\"Enter Product Price\"))\n",
    "if productPrice>3000:\n",
    "    if productPrice==4000:\n",
    "        print(\"You will get GOA Trip\")\n",
    "    print(\"The product price is : {} \".format(productPrice*0.8))\n",
    "elif productPrice>2000 and productPrice<=3000:\n",
    "    if productPrice==2999:\n",
    "        print(\"You will get Additional gift\")\n",
    "    print(\"The product price is : {} \".format(productPrice*0.7))\n",
    "\n",
    "elif productPrice>=100 and productPrice<=2000:\n",
    "    print(\"The product price is : {} \".format(productPrice*0.6))\n",
    "else:\n",
    "    print(\"Lets Go for a Tea\")\n",
    "    "
   ]
  },
  {
   "cell_type": "code",
   "execution_count": null,
   "id": "5152b9dd-6eb3-4f29-b20e-66310d1e37bc",
   "metadata": {},
   "outputs": [],
   "source": []
  },
  {
   "cell_type": "code",
   "execution_count": 7,
   "id": "493177de-d0ff-4b81-b4fa-2dc6ffac93a1",
   "metadata": {},
   "outputs": [
    {
     "name": "stdin",
     "output_type": "stream",
     "text": [
      "Enter the value 1000\n"
     ]
    },
    {
     "name": "stdout",
     "output_type": "stream",
     "text": [
      "Dont sell here\n"
     ]
    }
   ],
   "source": [
    "## Single Statement Suites\n",
    "val=int(input(\"Enter the value\"))\n",
    "if(val<=999):print(\"i can buy it\")\n",
    "else:\n",
    "    print(\"Dont sell here\")"
   ]
  },
  {
   "cell_type": "markdown",
   "id": "77627ab3-cf48-49e9-86df-cafbde61deeb",
   "metadata": {},
   "source": []
  },
  {
   "cell_type": "markdown",
   "id": "e22a42e7-c365-4a03-8be4-87f59aed2af5",
   "metadata": {},
   "source": [
    "## Loop Statements\n",
    "1. While Loop\n",
    "2. For Loop\n",
    "3. nester loop\n",
    "4. Loop Control (Break, continue,pass)"
   ]
  },
  {
   "cell_type": "markdown",
   "id": "5a1be2db-1c7b-46f3-92de-a12d58d369da",
   "metadata": {},
   "source": [
    "## While Loop"
   ]
  },
  {
   "cell_type": "code",
   "execution_count": 13,
   "id": "6eb6d42c-5bde-4fd6-86ca-b0cf08015741",
   "metadata": {},
   "outputs": [
    {
     "name": "stdin",
     "output_type": "stream",
     "text": [
      "Enter your Joining age 61\n"
     ]
    },
    {
     "name": "stdout",
     "output_type": "stream",
     "text": [
      "Sorry its time to retire\n"
     ]
    }
   ],
   "source": [
    "## While Loop , Using While and else\n",
    "joining_age=int(input(\"Enter your Joining age\"))\n",
    "while joining_age<=60: \n",
    "    print(joining_age)\n",
    "    joining_age=joining_age+1\n",
    "else:\n",
    "    print(\"Sorry its time to retire\")\n",
    "  "
   ]
  },
  {
   "cell_type": "code",
   "execution_count": 17,
   "id": "312e5da9-58f5-4107-8086-c3711b9c52ce",
   "metadata": {},
   "outputs": [
    {
     "name": "stdin",
     "output_type": "stream",
     "text": [
      "Enter the total amount 200\n"
     ]
    },
    {
     "name": "stdout",
     "output_type": "stream",
     "text": [
      "200\n",
      "100\n",
      "Put more money bank people\n"
     ]
    }
   ],
   "source": [
    "##Task-4\n",
    "## Atm machine with 1000rs\n",
    "\n",
    "total_amount=int(input(\"Enter the total amount\"))\n",
    "\n",
    "while total_amount!=0:\n",
    "    print(total_amount)\n",
    "    total_amount=total_amount-100\n",
    "else:\n",
    "    print(\"Put more money bank people\")"
   ]
  },
  {
   "cell_type": "code",
   "execution_count": null,
   "id": "3b33de3d-8be3-4922-b262-1ef140801f69",
   "metadata": {},
   "outputs": [],
   "source": []
  },
  {
   "cell_type": "markdown",
   "id": "fe16c9bd-0a23-4c90-8a9a-734f541b078b",
   "metadata": {},
   "source": [
    "## For Loop"
   ]
  },
  {
   "cell_type": "code",
   "execution_count": 1,
   "id": "35e88371-d668-4089-95ad-66c9b8b3dcb1",
   "metadata": {},
   "outputs": [],
   "source": [
    "## for loop \n",
    "\n",
    "lst=[\"Radhe\",1,2,3,4,5,\"Shyama\"]"
   ]
  },
  {
   "cell_type": "code",
   "execution_count": 2,
   "id": "49f2e8db-2a8b-4eca-b650-3732ba35f960",
   "metadata": {},
   "outputs": [
    {
     "data": {
      "text/plain": [
       "['Radhe', 1, 2, 3, 4, 5, 'Shyama']"
      ]
     },
     "execution_count": 2,
     "metadata": {},
     "output_type": "execute_result"
    }
   ],
   "source": [
    "lst"
   ]
  },
  {
   "cell_type": "code",
   "execution_count": 3,
   "id": "65409dee-5956-434e-9243-87056d174dfd",
   "metadata": {},
   "outputs": [
    {
     "name": "stdout",
     "output_type": "stream",
     "text": [
      "Radhe\n",
      "1\n",
      "2\n",
      "3\n",
      "4\n",
      "5\n",
      "Shyama\n"
     ]
    }
   ],
   "source": [
    "for x in lst:\n",
    "    print(x)"
   ]
  },
  {
   "cell_type": "code",
   "execution_count": 4,
   "id": "17bf3cde-8346-4260-ada7-5ba3d5688d78",
   "metadata": {},
   "outputs": [],
   "source": [
    "fruits_list=[\"banana\",\"apple\",\"strawery\",\"lichi\",\"mango\",\"cherry\"]"
   ]
  },
  {
   "cell_type": "code",
   "execution_count": 5,
   "id": "ba69e9e5-83aa-4636-9daa-ec94413c992a",
   "metadata": {},
   "outputs": [
    {
     "name": "stdout",
     "output_type": "stream",
     "text": [
      "banana\n",
      "apple\n",
      "strawery\n",
      "lichi\n",
      "mango\n",
      "cherry\n"
     ]
    }
   ],
   "source": [
    "for x in fruits_list:\n",
    "    print(x)"
   ]
  },
  {
   "cell_type": "code",
   "execution_count": 9,
   "id": "ca8cb0d0-e917-4ea1-8fee-59de64e242ef",
   "metadata": {},
   "outputs": [
    {
     "name": "stdout",
     "output_type": "stream",
     "text": [
      "banana  This is so sweety\n",
      "apple strawery lichi mango cherry "
     ]
    }
   ],
   "source": [
    "for x in fruits_list:\n",
    "    print(x,end=' ')\n",
    "    if(x==\"banana\"):print(\" This is so sweety\")"
   ]
  },
  {
   "cell_type": "code",
   "execution_count": 12,
   "id": "ff0572d2-8f4e-4adc-af0d-bab77be599dd",
   "metadata": {},
   "outputs": [
    {
     "name": "stdout",
     "output_type": "stream",
     "text": [
      "m a n g o "
     ]
    }
   ],
   "source": [
    "fruit=\"mango\"\n",
    "for x in fruit:\n",
    "    print(x, end=' ')"
   ]
  },
  {
   "cell_type": "code",
   "execution_count": 13,
   "id": "03ad6b66-dece-4e13-8701-cd69da87a133",
   "metadata": {},
   "outputs": [
    {
     "data": {
      "text/plain": [
       "'n'"
      ]
     },
     "execution_count": 13,
     "metadata": {},
     "output_type": "execute_result"
    }
   ],
   "source": [
    "fruit[2]"
   ]
  },
  {
   "cell_type": "code",
   "execution_count": null,
   "id": "fffceefd-d276-480d-9cb1-b769f080603e",
   "metadata": {},
   "outputs": [],
   "source": []
  },
  {
   "cell_type": "markdown",
   "id": "ce20921e-7e1d-4ce1-a6f1-1b57675d5c23",
   "metadata": {},
   "source": [
    "## Nested loops"
   ]
  },
  {
   "cell_type": "code",
   "execution_count": 17,
   "id": "1bd64117-7271-4c1b-b402-1342fa88ab01",
   "metadata": {},
   "outputs": [
    {
     "name": "stdout",
     "output_type": "stream",
     "text": [
      "1 3 5 "
     ]
    }
   ],
   "source": [
    "## Nested Loops ,  range\n",
    "range(1,6)\n",
    "\n",
    "for i in range(1,6,2):\n",
    "    print(i,end=' ')"
   ]
  },
  {
   "cell_type": "code",
   "execution_count": 25,
   "id": "ddf977bd-f832-471e-b8c4-7f408530b042",
   "metadata": {},
   "outputs": [
    {
     "name": "stdout",
     "output_type": "stream",
     "text": [
      "*\n",
      "**\n",
      "***\n",
      "****\n"
     ]
    }
   ],
   "source": [
    "## nested loop\n",
    "n=4\n",
    "\n",
    "for i in range(0,n):\n",
    "    for j in range(0,i+1):\n",
    "        print(\"*\",end='')\n",
    "    print(\"\\r\")\n"
   ]
  },
  {
   "cell_type": "code",
   "execution_count": 26,
   "id": "ba575849-6b41-4f93-9b64-fefcafc1455a",
   "metadata": {},
   "outputs": [
    {
     "name": "stdout",
     "output_type": "stream",
     "text": [
      "banana\n",
      "apple\n",
      "strawery\n",
      "lichi\n",
      "mango\n",
      "cherry\n"
     ]
    }
   ],
   "source": [
    "## loop Controls\n",
    "## Break and Continue\n",
    "fruits_list=[\"banana\",\"apple\",\"strawery\",\"lichi\",\"mango\",\"cherry\"]\n",
    "for i in fruits_list:\n",
    "    print(i)"
   ]
  },
  {
   "cell_type": "code",
   "execution_count": 27,
   "id": "27bb1b7c-a5eb-40c1-97e6-4510c5aad360",
   "metadata": {},
   "outputs": [
    {
     "name": "stdout",
     "output_type": "stream",
     "text": [
      "banana\n",
      "The fruit is apple\n",
      "apple\n",
      "strawery\n",
      "lichi\n",
      "mango\n",
      "cherry\n"
     ]
    }
   ],
   "source": [
    "for i in fruits_list:\n",
    "    if i==\"apple\":\n",
    "        print(\"The fruit is apple\")\n",
    "    print(i)"
   ]
  },
  {
   "cell_type": "markdown",
   "id": "9d71d360-da56-478c-ac52-8f77d9789013",
   "metadata": {},
   "source": [
    "## Break"
   ]
  },
  {
   "cell_type": "code",
   "execution_count": 28,
   "id": "b9531b89-da68-41f3-b0ed-157e290f78e4",
   "metadata": {},
   "outputs": [
    {
     "name": "stdout",
     "output_type": "stream",
     "text": [
      "banana\n",
      "The fruit is apple\n"
     ]
    }
   ],
   "source": [
    "## Break\n",
    "\n",
    "for i in fruits_list:\n",
    "    if i==\"apple\":\n",
    "        print(\"The fruit is apple\")\n",
    "        break\n",
    "    print(i)"
   ]
  },
  {
   "cell_type": "markdown",
   "id": "12f6fa7e-c97f-4eda-ae3e-53c9878bdb73",
   "metadata": {},
   "source": [
    "## Continue"
   ]
  },
  {
   "cell_type": "code",
   "execution_count": 30,
   "id": "664792f6-b65a-4a46-be27-9a6aff041864",
   "metadata": {},
   "outputs": [
    {
     "name": "stdout",
     "output_type": "stream",
     "text": [
      "banana\n",
      "The fruit is apple\n",
      "strawery\n",
      "lichi\n",
      "mango\n",
      "cherry\n"
     ]
    }
   ],
   "source": [
    "## Continue\n",
    "\n",
    "for i in fruits_list:\n",
    "    if i==\"apple\":\n",
    "        print(\"The fruit is apple\")\n",
    "        continue\n",
    "    print(i)"
   ]
  },
  {
   "cell_type": "code",
   "execution_count": null,
   "id": "06044c71-94f5-4b66-a364-09c95cfd0156",
   "metadata": {},
   "outputs": [],
   "source": []
  }
 ],
 "metadata": {
  "kernelspec": {
   "display_name": "Python 3 (ipykernel)",
   "language": "python",
   "name": "python3"
  },
  "language_info": {
   "codemirror_mode": {
    "name": "ipython",
    "version": 3
   },
   "file_extension": ".py",
   "mimetype": "text/x-python",
   "name": "python",
   "nbconvert_exporter": "python",
   "pygments_lexer": "ipython3",
   "version": "3.10.8"
  }
 },
 "nbformat": 4,
 "nbformat_minor": 5
}
