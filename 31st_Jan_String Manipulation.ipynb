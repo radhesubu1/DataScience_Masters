{
 "cells": [
  {
   "cell_type": "markdown",
   "id": "9535212d-2b68-4208-aecf-4ce5f7e8999b",
   "metadata": {},
   "source": [
    "## Logical Operators"
   ]
  },
  {
   "cell_type": "code",
   "execution_count": 1,
   "id": "90d4e609-2ed2-4353-a5d9-baf2a2eb0512",
   "metadata": {},
   "outputs": [
    {
     "data": {
      "text/plain": [
       "True"
      ]
     },
     "execution_count": 1,
     "metadata": {},
     "output_type": "execute_result"
    }
   ],
   "source": [
    "True and True"
   ]
  },
  {
   "cell_type": "code",
   "execution_count": 2,
   "id": "0a1867c1-9702-4bf7-abe2-953f1f4220fd",
   "metadata": {},
   "outputs": [
    {
     "data": {
      "text/plain": [
       "True"
      ]
     },
     "execution_count": 2,
     "metadata": {},
     "output_type": "execute_result"
    }
   ],
   "source": [
    "True or False"
   ]
  },
  {
   "cell_type": "code",
   "execution_count": 9,
   "id": "714491d1-df16-4dce-b4e4-126ba8401e45",
   "metadata": {},
   "outputs": [
    {
     "name": "stdout",
     "output_type": "stream",
     "text": [
      "True\n",
      "False\n",
      "False\n",
      "False\n",
      "True\n",
      "True\n",
      "True\n"
     ]
    }
   ],
   "source": [
    "START = True\n",
    "STOP = False\n",
    "print(f\"{START}\")\n",
    "print(f\"{STOP}\")\n",
    "print(f\"{not START}\")\n",
    "print(f\"{STOP}\")\n",
    "print(f\"{START}\")\n",
    "print(f\"{not STOP}\")\n",
    "print(f\"{START}\")"
   ]
  },
  {
   "cell_type": "code",
   "execution_count": 10,
   "id": "dabea9ef-3255-439a-a0d3-00e869fde937",
   "metadata": {},
   "outputs": [
    {
     "data": {
      "text/plain": [
       "False"
      ]
     },
     "execution_count": 10,
     "metadata": {},
     "output_type": "execute_result"
    }
   ],
   "source": [
    "not True"
   ]
  },
  {
   "cell_type": "code",
   "execution_count": 11,
   "id": "88af3d1c-ffa5-41c5-bf4b-7c3a876a1d1e",
   "metadata": {},
   "outputs": [
    {
     "data": {
      "text/plain": [
       "True"
      ]
     },
     "execution_count": 11,
     "metadata": {},
     "output_type": "execute_result"
    }
   ],
   "source": [
    "not bool(0)"
   ]
  },
  {
   "cell_type": "code",
   "execution_count": 12,
   "id": "7b338d41-f2d7-423a-950a-f31f84c576c7",
   "metadata": {},
   "outputs": [
    {
     "data": {
      "text/plain": [
       "True"
      ]
     },
     "execution_count": 12,
     "metadata": {},
     "output_type": "execute_result"
    }
   ],
   "source": [
    "not int(bool(0))"
   ]
  },
  {
   "cell_type": "code",
   "execution_count": 13,
   "id": "249c6ffb-e286-4eb0-a848-9687626bb054",
   "metadata": {},
   "outputs": [
    {
     "data": {
      "text/plain": [
       "True"
      ]
     },
     "execution_count": 13,
     "metadata": {},
     "output_type": "execute_result"
    }
   ],
   "source": [
    "bool(1)"
   ]
  },
  {
   "cell_type": "code",
   "execution_count": 14,
   "id": "68ad5003-b655-4ecc-b320-60bda60a122c",
   "metadata": {},
   "outputs": [
    {
     "data": {
      "text/plain": [
       "False"
      ]
     },
     "execution_count": 14,
     "metadata": {},
     "output_type": "execute_result"
    }
   ],
   "source": [
    "not int(bool(1))"
   ]
  },
  {
   "cell_type": "code",
   "execution_count": 16,
   "id": "7d11c7f5-5d26-4348-b012-9be65144e243",
   "metadata": {},
   "outputs": [
    {
     "data": {
      "text/plain": [
       "True"
      ]
     },
     "execution_count": 16,
     "metadata": {},
     "output_type": "execute_result"
    }
   ],
   "source": [
    "not 0"
   ]
  },
  {
   "cell_type": "code",
   "execution_count": 17,
   "id": "27bcceb7-8933-47fe-9d78-af128aa6bc09",
   "metadata": {},
   "outputs": [
    {
     "data": {
      "text/plain": [
       "False"
      ]
     },
     "execution_count": 17,
     "metadata": {},
     "output_type": "execute_result"
    }
   ],
   "source": [
    "not 1"
   ]
  },
  {
   "cell_type": "code",
   "execution_count": 18,
   "id": "8b4f32f3-3ab9-4998-8c51-f5210dc5d62b",
   "metadata": {},
   "outputs": [
    {
     "data": {
      "text/plain": [
       "False"
      ]
     },
     "execution_count": 18,
     "metadata": {},
     "output_type": "execute_result"
    }
   ],
   "source": [
    "not 2"
   ]
  },
  {
   "cell_type": "code",
   "execution_count": 21,
   "id": "4ec82057-3b5c-4a89-9c40-caf4bc627ee0",
   "metadata": {},
   "outputs": [
    {
     "name": "stdout",
     "output_type": "stream",
     "text": [
      "1\n",
      "0\n",
      "1\n",
      "0\n",
      "1\n",
      "True\n"
     ]
    }
   ],
   "source": [
    "START = 1\n",
    "STOP = 0\n",
    "print(f\"{START}\")\n",
    "print(f\"{STOP}\")\n",
    "print(f\"{START}\")\n",
    "print(f\"{int(not START)}\")\n",
    "print(f\"{int(not STOP)}\")\n",
    "print(f\"{not STOP}\")"
   ]
  },
  {
   "cell_type": "code",
   "execution_count": 24,
   "id": "11c408a0-6334-42bd-98a1-041cbf81468f",
   "metadata": {},
   "outputs": [
    {
     "name": "stdout",
     "output_type": "stream",
     "text": [
      "0 is False\n",
      "1 is True\n",
      "0 is True\n"
     ]
    }
   ],
   "source": [
    "Zero=0\n",
    "One=1\n",
    "print(f\"{Zero} is {bool (Zero)}\")\n",
    "print(f\"{One} is {bool (One)}\")\n",
    "print(f\"{Zero} is {not Zero}\")"
   ]
  },
  {
   "cell_type": "code",
   "execution_count": 26,
   "id": "fb2326fe-003b-4811-8f7d-0e080a0dd617",
   "metadata": {},
   "outputs": [
    {
     "data": {
      "text/plain": [
       "True"
      ]
     },
     "execution_count": 26,
     "metadata": {},
     "output_type": "execute_result"
    }
   ],
   "source": [
    "bool (-5)"
   ]
  },
  {
   "cell_type": "code",
   "execution_count": 27,
   "id": "71ac8dd8-74d4-4021-9885-39ac2a390706",
   "metadata": {},
   "outputs": [
    {
     "data": {
      "text/plain": [
       "True"
      ]
     },
     "execution_count": 27,
     "metadata": {},
     "output_type": "execute_result"
    }
   ],
   "source": [
    "bool (5)"
   ]
  },
  {
   "cell_type": "code",
   "execution_count": 3,
   "id": "b7f38fb9-7dce-4fcb-a01d-b2a9433ef56e",
   "metadata": {},
   "outputs": [
    {
     "name": "stdout",
     "output_type": "stream",
     "text": [
      "True\n",
      "False\n",
      "False\n"
     ]
    }
   ],
   "source": [
    "##Task-1\n",
    "Veg=True\n",
    "Salt=False\n",
    "Dish= Veg and Salt\n",
    "print(f\"{Veg}\")\n",
    "print(f\"{Salt}\")\n",
    "print(f\"{Dish}\")"
   ]
  },
  {
   "cell_type": "code",
   "execution_count": null,
   "id": "c57bd59a-5926-45a5-9f7f-ee7749765e54",
   "metadata": {},
   "outputs": [],
   "source": []
  },
  {
   "cell_type": "markdown",
   "id": "6c171cd9-bd3a-4e7c-b754-8d55026b295f",
   "metadata": {},
   "source": [
    "## Equality Operator"
   ]
  },
  {
   "cell_type": "code",
   "execution_count": 7,
   "id": "85ac1555-9f62-4843-bc1e-b9ac9d3ad8fe",
   "metadata": {},
   "outputs": [
    {
     "name": "stdout",
     "output_type": "stream",
     "text": [
      "139766377291008\n",
      "139766377026944\n"
     ]
    },
    {
     "data": {
      "text/plain": [
       "True"
      ]
     },
     "execution_count": 7,
     "metadata": {},
     "output_type": "execute_result"
    }
   ],
   "source": [
    "## is  (Memory location Comarision)\n",
    "## is not (Memory location Comarision)\n",
    "## == (Data Compare)\n",
    "\n",
    "\n",
    "\n",
    "lst_a=[1,2,3,4]\n",
    "lst_b=[1,2,3,4]\n",
    "print(id(lst_a))\n",
    "print(id(lst_b))\n",
    "lst_a is lst_b\n",
    "lst_a == lst_b"
   ]
  },
  {
   "cell_type": "code",
   "execution_count": 5,
   "id": "43b751ff-d51a-498e-95cd-390ade6d431e",
   "metadata": {},
   "outputs": [
    {
     "name": "stdout",
     "output_type": "stream",
     "text": [
      "139766676656512\n",
      "139766676656512\n"
     ]
    },
    {
     "data": {
      "text/plain": [
       "True"
      ]
     },
     "execution_count": 5,
     "metadata": {},
     "output_type": "execute_result"
    }
   ],
   "source": [
    "lst_a=[1,2,3,4]\n",
    "lst_b=lst_a\n",
    "print(id(lst_a))\n",
    "print(id(lst_b))\n",
    "lst_a is lst_b"
   ]
  },
  {
   "cell_type": "code",
   "execution_count": 6,
   "id": "9b714c3f-fd9f-4804-8200-e4ea5a97f6b9",
   "metadata": {},
   "outputs": [
    {
     "data": {
      "text/plain": [
       "False"
      ]
     },
     "execution_count": 6,
     "metadata": {},
     "output_type": "execute_result"
    }
   ],
   "source": [
    "lst_a is not lst_b"
   ]
  },
  {
   "cell_type": "code",
   "execution_count": 8,
   "id": "9dd0974d-f047-418c-b5af-28a559809512",
   "metadata": {},
   "outputs": [
    {
     "name": "stdout",
     "output_type": "stream",
     "text": [
      "139766725640464\n",
      "139766725640464\n"
     ]
    }
   ],
   "source": [
    "a=2\n",
    "b=2\n",
    "print(id(a))\n",
    "print(id(b))"
   ]
  },
  {
   "cell_type": "code",
   "execution_count": null,
   "id": "311938ba-3ab3-44c4-ac9d-b1cdb7a3d91f",
   "metadata": {},
   "outputs": [],
   "source": []
  },
  {
   "cell_type": "markdown",
   "id": "1b66e9eb-d1d3-4d48-aae3-ef1c1d8cbb17",
   "metadata": {},
   "source": [
    "## Comparision Operations"
   ]
  },
  {
   "cell_type": "code",
   "execution_count": 11,
   "id": "3c9cb5aa-3b12-4e4a-a7cc-e15b6612f707",
   "metadata": {},
   "outputs": [
    {
     "name": "stdout",
     "output_type": "stream",
     "text": [
      "False\n",
      "True\n",
      "False\n",
      "True\n"
     ]
    }
   ],
   "source": [
    "## <\n",
    "## >\n",
    "## <=\n",
    "## >=\n",
    "\n",
    "maxSpeed_bike = 200\n",
    "maxSpeed_Car = 400\n",
    "print(maxSpeed_bike > maxSpeed_Car)\n",
    "print(maxSpeed_bike < maxSpeed_Car)\n",
    "print(maxSpeed_bike >= maxSpeed_Car)\n",
    "print(maxSpeed_bike <= maxSpeed_Car)"
   ]
  },
  {
   "cell_type": "code",
   "execution_count": null,
   "id": "c737f878-2c8a-402c-aa32-c0bac54e0cba",
   "metadata": {},
   "outputs": [],
   "source": []
  },
  {
   "cell_type": "markdown",
   "id": "50b97af2-6b34-4f9c-b08a-11e1fb699c09",
   "metadata": {},
   "source": [
    "## Arithmatic Operator"
   ]
  },
  {
   "cell_type": "code",
   "execution_count": 17,
   "id": "d1ecf6e3-ec05-4878-aa89-c07f2364570e",
   "metadata": {},
   "outputs": [
    {
     "name": "stdout",
     "output_type": "stream",
     "text": [
      "0\n",
      "2\n",
      "20\n",
      "0\n"
     ]
    }
   ],
   "source": [
    "## // (Integer Division)\n",
    "## % (Modulus)\n",
    "\n",
    "a=20\n",
    "b=40\n",
    "print(a//b)\n",
    "print(b//a)\n",
    "print(a%b)\n",
    "print(b%a)"
   ]
  },
  {
   "cell_type": "code",
   "execution_count": null,
   "id": "1cb9e780-7341-4e4f-a276-f7c26c187c9c",
   "metadata": {},
   "outputs": [],
   "source": []
  },
  {
   "cell_type": "markdown",
   "id": "083f5f93-9fb8-45d3-9cff-2b45ec86b7a9",
   "metadata": {},
   "source": [
    "## BitWise Operator"
   ]
  },
  {
   "cell_type": "code",
   "execution_count": 6,
   "id": "3935743c-bfa4-496c-8a7c-0f3947007110",
   "metadata": {},
   "outputs": [
    {
     "data": {
      "text/plain": [
       "'0b1010'"
      ]
     },
     "execution_count": 6,
     "metadata": {},
     "output_type": "execute_result"
    }
   ],
   "source": [
    "var=10\n",
    "bin(var)"
   ]
  },
  {
   "cell_type": "code",
   "execution_count": 7,
   "id": "70f9de46-af40-440a-9044-fa1721892eb5",
   "metadata": {},
   "outputs": [
    {
     "data": {
      "text/plain": [
       "-11"
      ]
     },
     "execution_count": 7,
     "metadata": {},
     "output_type": "execute_result"
    }
   ],
   "source": [
    "~var"
   ]
  },
  {
   "cell_type": "code",
   "execution_count": 5,
   "id": "0d6020d4-de7e-413c-9d63-b8ee66bad84a",
   "metadata": {},
   "outputs": [
    {
     "data": {
      "text/plain": [
       "True"
      ]
     },
     "execution_count": 5,
     "metadata": {},
     "output_type": "execute_result"
    }
   ],
   "source": [
    "True | False"
   ]
  },
  {
   "cell_type": "code",
   "execution_count": 8,
   "id": "176e1d5b-b429-48f1-b6e4-3cd78dd1caf4",
   "metadata": {},
   "outputs": [
    {
     "data": {
      "text/plain": [
       "5"
      ]
     },
     "execution_count": 8,
     "metadata": {},
     "output_type": "execute_result"
    }
   ],
   "source": [
    "var >>1"
   ]
  },
  {
   "cell_type": "code",
   "execution_count": 9,
   "id": "3fbf9fba-c841-4e22-b131-b714c2866794",
   "metadata": {},
   "outputs": [
    {
     "data": {
      "text/plain": [
       "20"
      ]
     },
     "execution_count": 9,
     "metadata": {},
     "output_type": "execute_result"
    }
   ],
   "source": [
    "var<< 1"
   ]
  },
  {
   "cell_type": "markdown",
   "id": "12dadb61-0ee4-40b6-b601-391c6517e42f",
   "metadata": {},
   "source": [
    "## Strings"
   ]
  },
  {
   "cell_type": "code",
   "execution_count": 10,
   "id": "3b8b24e0-79d2-4a46-ba96-5b636e7e2e29",
   "metadata": {},
   "outputs": [
    {
     "data": {
      "text/plain": [
       "str"
      ]
     },
     "execution_count": 10,
     "metadata": {},
     "output_type": "execute_result"
    }
   ],
   "source": [
    "str1=\"Welcome to Data Science masters\"\n",
    "type(str1)"
   ]
  },
  {
   "cell_type": "code",
   "execution_count": 11,
   "id": "889ed6db-87a7-4956-ae09-0ba5000114be",
   "metadata": {},
   "outputs": [
    {
     "data": {
      "text/plain": [
       "'W'"
      ]
     },
     "execution_count": 11,
     "metadata": {},
     "output_type": "execute_result"
    }
   ],
   "source": [
    "str1[0]"
   ]
  },
  {
   "cell_type": "code",
   "execution_count": 24,
   "id": "1a08b8c2-9cf5-4ac0-ade3-b85f81b0e89a",
   "metadata": {},
   "outputs": [
    {
     "data": {
      "text/plain": [
       "'eniSaa liSw'"
      ]
     },
     "execution_count": 24,
     "metadata": {},
     "output_type": "execute_result"
    }
   ],
   "source": [
    "## str1. - if you click tab button after str1. then you can find inbuild function of String\n",
    "\n",
    "string=\"Pw Skills Data Science\"\n",
    "string[5]\n",
    "\n",
    "##Slice[startindex,nthindex] operation (from start index to n-1 index) \n",
    "\n",
    "string[5:11]\n",
    "\n",
    "## To get the last element of the String\n",
    "string[-1] ## o/p e\n",
    "\n",
    "string[-3:] ## o/p nce\n",
    "\n",
    "string[-7:] ## o/p Science\n",
    "\n",
    "string[-7:-3] ## o/p Scie\n",
    "\n",
    "string[-7:5]  ## o/p ''\n",
    "string[7:5]  ## o/p ''\n",
    "\n",
    "## read everything except last char\n",
    "\n",
    "string[:-1] ## o/p 'Pw Skills Data Scienc'\n",
    "\n",
    "## Whole String\n",
    "\n",
    "string[:] ## 'Pw Skills Data Science'\n",
    "\n",
    "## Display in reverse order , here -1 is step size\n",
    "\n",
    "string[::-1] ## o/p 'ecneicS ataD sllikS wP'\n",
    "string[::-2] ## o/p 'eniSaa liSw'"
   ]
  },
  {
   "cell_type": "code",
   "execution_count": 56,
   "id": "a1be6449-e9c8-4936-ab08-539ba17ac2fd",
   "metadata": {},
   "outputs": [
    {
     "data": {
      "text/plain": [
       "'ecneicS'"
      ]
     },
     "execution_count": 56,
     "metadata": {},
     "output_type": "execute_result"
    }
   ],
   "source": [
    "course_name=\"Data Science Masters\"\n",
    "\n",
    "course_name[5:12]\n",
    "course_name[11:4:-1]"
   ]
  },
  {
   "cell_type": "code",
   "execution_count": 57,
   "id": "c50f6a8f-0edf-4cb4-9df5-c8173b6bda22",
   "metadata": {},
   "outputs": [
    {
     "name": "stdout",
     "output_type": "stream",
     "text": [
      "heelloWorld\n"
     ]
    }
   ],
   "source": [
    "## Concatenation\n",
    "\n",
    "print(\"heello\"+\"World\")"
   ]
  },
  {
   "cell_type": "code",
   "execution_count": 58,
   "id": "58e8e145-f575-4b83-bcf6-8cb68f3a8405",
   "metadata": {},
   "outputs": [
    {
     "data": {
      "text/plain": [
       "20"
      ]
     },
     "execution_count": 58,
     "metadata": {},
     "output_type": "execute_result"
    }
   ],
   "source": [
    "len(course_name)"
   ]
  },
  {
   "cell_type": "code",
   "execution_count": 60,
   "id": "2e5f4452-65e8-4a52-a47c-6d8a0616d424",
   "metadata": {},
   "outputs": [
    {
     "data": {
      "text/plain": [
       "'Data Science Masters'"
      ]
     },
     "execution_count": 60,
     "metadata": {},
     "output_type": "execute_result"
    }
   ],
   "source": [
    "course_name"
   ]
  },
  {
   "cell_type": "code",
   "execution_count": 59,
   "id": "f1739291-8bfc-4944-a8a1-e29b90269cbb",
   "metadata": {},
   "outputs": [
    {
     "data": {
      "text/plain": [
       "9"
      ]
     },
     "execution_count": 59,
     "metadata": {},
     "output_type": "execute_result"
    }
   ],
   "source": [
    "course_name.find(\"n\")"
   ]
  },
  {
   "cell_type": "code",
   "execution_count": 61,
   "id": "c3403ac4-0f82-479d-b2d8-030aa9c6e182",
   "metadata": {},
   "outputs": [
    {
     "data": {
      "text/plain": [
       "1"
      ]
     },
     "execution_count": 61,
     "metadata": {},
     "output_type": "execute_result"
    }
   ],
   "source": [
    "course_name.find(\"a\")"
   ]
  },
  {
   "cell_type": "code",
   "execution_count": 62,
   "id": "04228480-eb17-4e38-81f3-6443be03ca99",
   "metadata": {},
   "outputs": [
    {
     "data": {
      "text/plain": [
       "3"
      ]
     },
     "execution_count": 62,
     "metadata": {},
     "output_type": "execute_result"
    }
   ],
   "source": [
    "\n",
    "course_name.find(\"a\",2,10)"
   ]
  },
  {
   "cell_type": "code",
   "execution_count": 63,
   "id": "909046c7-a7d3-4e36-84b2-e030b18e2a0e",
   "metadata": {},
   "outputs": [
    {
     "data": {
      "text/plain": [
       "-1"
      ]
     },
     "execution_count": 63,
     "metadata": {},
     "output_type": "execute_result"
    }
   ],
   "source": [
    "## if element is not there we will get -1\n",
    "course_name.find(\"z\")"
   ]
  },
  {
   "cell_type": "code",
   "execution_count": 64,
   "id": "756b4d99-ea42-4d39-a6d0-5ad927c41ebf",
   "metadata": {},
   "outputs": [
    {
     "data": {
      "text/plain": [
       "3"
      ]
     },
     "execution_count": 64,
     "metadata": {},
     "output_type": "execute_result"
    }
   ],
   "source": [
    "## count()\n",
    "\n",
    "course_name.count(\"a\")"
   ]
  },
  {
   "cell_type": "code",
   "execution_count": 65,
   "id": "4ee49ad5-e525-478f-8c39-ea62eddb1ed1",
   "metadata": {},
   "outputs": [
    {
     "data": {
      "text/plain": [
       "2"
      ]
     },
     "execution_count": 65,
     "metadata": {},
     "output_type": "execute_result"
    }
   ],
   "source": [
    "course_name.count(\" \")"
   ]
  },
  {
   "cell_type": "code",
   "execution_count": 66,
   "id": "177df402-943d-45f2-b76a-4c7518937d95",
   "metadata": {},
   "outputs": [
    {
     "data": {
      "text/plain": [
       "21"
      ]
     },
     "execution_count": 66,
     "metadata": {},
     "output_type": "execute_result"
    }
   ],
   "source": [
    "course_name.count(\"\")"
   ]
  },
  {
   "cell_type": "markdown",
   "id": "bd358fa0-632c-48ac-9188-fb55c47f4b71",
   "metadata": {},
   "source": [
    "## String Split"
   ]
  },
  {
   "cell_type": "code",
   "execution_count": 67,
   "id": "72ca8e36-3652-46ad-9f90-0c7ac5eaa987",
   "metadata": {},
   "outputs": [
    {
     "data": {
      "text/plain": [
       "['Data', 'Science', 'Masters']"
      ]
     },
     "execution_count": 67,
     "metadata": {},
     "output_type": "execute_result"
    }
   ],
   "source": [
    "course_name.split(\" \")"
   ]
  },
  {
   "cell_type": "code",
   "execution_count": 68,
   "id": "7a34113d-6ebc-4849-aeb3-2c54d204b6d4",
   "metadata": {},
   "outputs": [
    {
     "data": {
      "text/plain": [
       "('Data ', 'S', 'cience Masters')"
      ]
     },
     "execution_count": 68,
     "metadata": {},
     "output_type": "execute_result"
    }
   ],
   "source": [
    "## Partition\n",
    "course_name.partition(\"S\")"
   ]
  },
  {
   "cell_type": "code",
   "execution_count": 69,
   "id": "b0d7d3d7-30ad-44af-916b-0c390449fc78",
   "metadata": {},
   "outputs": [
    {
     "data": {
      "text/plain": [
       "'DATA SCIENCE MASTERS'"
      ]
     },
     "execution_count": 69,
     "metadata": {},
     "output_type": "execute_result"
    }
   ],
   "source": [
    "## String uppercase and Lowercase\n",
    "\n",
    "course_name.upper()"
   ]
  },
  {
   "cell_type": "code",
   "execution_count": 70,
   "id": "7796d9c3-b526-48e3-877f-e179bc560f86",
   "metadata": {},
   "outputs": [
    {
     "data": {
      "text/plain": [
       "'data science masters'"
      ]
     },
     "execution_count": 70,
     "metadata": {},
     "output_type": "execute_result"
    }
   ],
   "source": [
    "course_name.lower()"
   ]
  },
  {
   "cell_type": "code",
   "execution_count": 71,
   "id": "20c12f5f-de69-4e1f-ac61-fb662c1eb72e",
   "metadata": {},
   "outputs": [
    {
     "data": {
      "text/plain": [
       "'Data Science Masters'"
      ]
     },
     "execution_count": 71,
     "metadata": {},
     "output_type": "execute_result"
    }
   ],
   "source": [
    "course_name"
   ]
  },
  {
   "cell_type": "code",
   "execution_count": 72,
   "id": "db33b1e6-4ec8-4ef0-8c68-6c7295fade68",
   "metadata": {},
   "outputs": [
    {
     "data": {
      "text/plain": [
       "'dATA sCIENCE mASTERS'"
      ]
     },
     "execution_count": 72,
     "metadata": {},
     "output_type": "execute_result"
    }
   ],
   "source": [
    "## Swap case\n",
    "\n",
    "course_name.swapcase()"
   ]
  },
  {
   "cell_type": "code",
   "execution_count": 73,
   "id": "f25fbff8-5b1b-4dbc-8a79-b812d62d1e1c",
   "metadata": {},
   "outputs": [
    {
     "data": {
      "text/plain": [
       "'Data Science Masters'"
      ]
     },
     "execution_count": 73,
     "metadata": {},
     "output_type": "execute_result"
    }
   ],
   "source": [
    "## title (Every 1st letter of word of line will be capital \n",
    "\n",
    "course_name.title()"
   ]
  },
  {
   "cell_type": "code",
   "execution_count": 74,
   "id": "47a60977-85bc-4084-a02d-ffc4b4b0edd0",
   "metadata": {},
   "outputs": [
    {
     "data": {
      "text/plain": [
       "'Radhe'"
      ]
     },
     "execution_count": 74,
     "metadata": {},
     "output_type": "execute_result"
    }
   ],
   "source": [
    "name=\"radhe\"\n",
    "name.title()"
   ]
  },
  {
   "cell_type": "code",
   "execution_count": null,
   "id": "cbf75fe2-cbae-422e-aca9-d3f73e639764",
   "metadata": {},
   "outputs": [],
   "source": []
  },
  {
   "cell_type": "markdown",
   "id": "d3f3ec78-5ea0-4eec-9c5b-200bfee966f4",
   "metadata": {},
   "source": [
    "# Assignment"
   ]
  },
  {
   "cell_type": "code",
   "execution_count": 75,
   "id": "8e43c23d-2224-4624-88c7-4010882e0289",
   "metadata": {},
   "outputs": [
    {
     "name": "stdin",
     "output_type": "stream",
     "text": [
      "Enter the triangle Length: 5\n"
     ]
    },
    {
     "name": "stdout",
     "output_type": "stream",
     "text": [
      "     *\n",
      "    **\n",
      "   ****\n",
      "  ******\n",
      " ********\n"
     ]
    }
   ],
   "source": [
    "## Assignment\n",
    "\n",
    "size = int(input(\"Enter the triangle Length:\"))\n",
    "for i in range(size):\n",
    "    for j in range(size-i):\n",
    "        print(\"\",end=\" \")\n",
    "    for k in range(i+1) :\n",
    "        print(\"*\",end=\"\")\n",
    "    for m in range(k-1):\n",
    "        print(\"*\", end=\"\")\n",
    "    print()"
   ]
  },
  {
   "cell_type": "code",
   "execution_count": 76,
   "id": "fe4cf2cc-aac7-442f-b82d-db2cff628d97",
   "metadata": {},
   "outputs": [
    {
     "name": "stdout",
     "output_type": "stream",
     "text": [
      "     *\n",
      "    ***\n",
      "   *****\n",
      "  *******\n",
      " *********\n"
     ]
    }
   ],
   "source": [
    "n = 5\n",
    "for i in range(n):\n",
    "    print(\" \"*(n-i),end='')\n",
    "    for j in range(i*2+1):\n",
    "        print(\"*\",end=\"\")\n",
    "    print()"
   ]
  },
  {
   "cell_type": "code",
   "execution_count": null,
   "id": "1ed44007-3694-45d7-9583-ec75fe7e2fea",
   "metadata": {},
   "outputs": [],
   "source": []
  }
 ],
 "metadata": {
  "kernelspec": {
   "display_name": "Python 3 (ipykernel)",
   "language": "python",
   "name": "python3"
  },
  "language_info": {
   "codemirror_mode": {
    "name": "ipython",
    "version": 3
   },
   "file_extension": ".py",
   "mimetype": "text/x-python",
   "name": "python",
   "nbconvert_exporter": "python",
   "pygments_lexer": "ipython3",
   "version": "3.10.8"
  }
 },
 "nbformat": 4,
 "nbformat_minor": 5
}
