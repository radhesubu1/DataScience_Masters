{
 "cells": [
  {
   "cell_type": "code",
   "execution_count": 1,
   "id": "e8bbe02c-0c23-432a-bd0a-0628a44794a0",
   "metadata": {},
   "outputs": [],
   "source": [
    "Test=10"
   ]
  },
  {
   "cell_type": "code",
   "execution_count": 2,
   "id": "5bf9a623-b51e-4481-a83e-46beefd9885a",
   "metadata": {},
   "outputs": [
    {
     "data": {
      "text/plain": [
       "10"
      ]
     },
     "execution_count": 2,
     "metadata": {},
     "output_type": "execute_result"
    }
   ],
   "source": [
    "Test"
   ]
  },
  {
   "cell_type": "code",
   "execution_count": 3,
   "id": "afb3fd88-7f5c-4b8e-89f1-fcd998eca2d8",
   "metadata": {},
   "outputs": [
    {
     "data": {
      "text/plain": [
       "2"
      ]
     },
     "execution_count": 3,
     "metadata": {},
     "output_type": "execute_result"
    }
   ],
   "source": [
    "1+1"
   ]
  },
  {
   "cell_type": "code",
   "execution_count": 2,
   "id": "888233d9-73fa-4066-bc84-0f971353e162",
   "metadata": {},
   "outputs": [
    {
     "name": "stdout",
     "output_type": "stream",
     "text": [
      "Rdhe\n"
     ]
    }
   ],
   "source": [
    "print(\"Rdhe\")"
   ]
  },
  {
   "cell_type": "code",
   "execution_count": 5,
   "id": "f155f2a5-7d6d-44dc-afee-219d28eb0b2d",
   "metadata": {},
   "outputs": [
    {
     "name": "stdout",
     "output_type": "stream",
     "text": [
      "10\n"
     ]
    }
   ],
   "source": [
    "print(Test)"
   ]
  },
  {
   "cell_type": "code",
   "execution_count": 7,
   "id": "b6e0df71-2828-4798-a2be-6f0d21bd9e3d",
   "metadata": {},
   "outputs": [
    {
     "name": "stdout",
     "output_type": "stream",
     "text": [
      "True\n"
     ]
    }
   ],
   "source": [
    "print(1==1)"
   ]
  },
  {
   "cell_type": "code",
   "execution_count": 8,
   "id": "7f2d172a-820b-41a9-8648-07af00edbdf7",
   "metadata": {},
   "outputs": [
    {
     "data": {
      "text/plain": [
       "int"
      ]
     },
     "execution_count": 8,
     "metadata": {},
     "output_type": "execute_result"
    }
   ],
   "source": [
    "type(Test)"
   ]
  },
  {
   "cell_type": "code",
   "execution_count": null,
   "id": "0ca9eb87-d2b2-493c-b502-85e1afc4f096",
   "metadata": {},
   "outputs": [],
   "source": []
  }
 ],
 "metadata": {
  "kernelspec": {
   "display_name": "Python 3 (ipykernel)",
   "language": "python",
   "name": "python3"
  },
  "language_info": {
   "codemirror_mode": {
    "name": "ipython",
    "version": 3
   },
   "file_extension": ".py",
   "mimetype": "text/x-python",
   "name": "python",
   "nbconvert_exporter": "python",
   "pygments_lexer": "ipython3",
   "version": "3.10.8"
  }
 },
 "nbformat": 4,
 "nbformat_minor": 5
}
